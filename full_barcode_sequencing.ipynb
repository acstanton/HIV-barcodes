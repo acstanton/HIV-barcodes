{
 "cells": [
  {
   "cell_type": "markdown",
   "metadata": {},
   "source": [
    "# Complete sequencing of barcoded pol mutants\n",
    "\n",
    "Allie Stanton\n",
    "\n",
    "Data is from a 500 cycle MiSeq run with 15 million reads started on April 5, 2019. The input material was from 293Ts transfected with 0.1 MOI of lentivirus with a 15N barcode (plasmid 2626) with different single AA polymerase mutants. The cells were flow-sorted on BFP to isolate 10k infected cells from each sample. The 10k cells from each sample were split into 10 pools of 1000 cells after gDNA extraction, such that each sample has 10 indices associated with it."
   ]
  },
  {
   "cell_type": "markdown",
   "metadata": {},
   "source": [
    "## Reading in files\n",
    "\n",
    "First I'll create a dictionary with the sample names (mutants) as keys and read 1 and read 2 file names as values. Then I'll define the functions that read in the data. I'll use the WT sample as an example to go through each of the functions once and demonstrate their purpose before processing all of the samples. Note that each sample has 10 indices associated with it so I'll read them in on a loop, keeping the indices separate for now."
   ]
  },
  {
   "cell_type": "code",
   "execution_count": 1,
   "metadata": {},
   "outputs": [],
   "source": [
    "from Bio import SeqIO\n",
    "import itertools\n",
    "import os\n",
    "import random\n",
    "import matplotlib.pyplot as plt\n",
    "import numpy as np\n",
    "import scipy\n",
    "\n",
    "files = {}\n",
    "seqdir = os.path.join(os.getcwd(), \"sequences\")\n",
    "for directory in os.listdir(seqdir):\n",
    "    if not directory.startswith(\".\"):\n",
    "        longdir = os.path.join(seqdir, directory)\n",
    "        for file in os.listdir(longdir):\n",
    "            filename = os.fsdecode(file)\n",
    "            if file.endswith(\"R1_001.fastq\"):\n",
    "                read1_file = os.path.join(longdir, filename)\n",
    "            elif file.endswith(\"R2_001.fastq\"):\n",
    "                read2_file = os.path.join(longdir, filename)\n",
    "        files[directory] = (read1_file, read2_file)"
   ]
  },
  {
   "cell_type": "code",
   "execution_count": 2,
   "metadata": {},
   "outputs": [],
   "source": [
    "def read1_in(file):\n",
    "######################################################################################\n",
    "#                                                                                    #\n",
    "# Reads in the read 1 sequence data and stores sequence and barcode data separately. #    \n",
    "#                                                                                    #\n",
    "# Inputs:                                                                            #\n",
    "#      file: full path of file where read 1 data is stored in fastq format.          #\n",
    "# Outputs:                                                                           #\n",
    "#      barcodes: dictionary with record ids as keys and a string containing the 15N  #\n",
    "#        barcode as values.                                                          #          \n",
    "#      read1_seqs: dictionary with record ids as keys and a string containing the    #\n",
    "#        first 100 bases of the corresponding read 1 after the barcode as values.    #\n",
    "#                                                                                    #\n",
    "######################################################################################\n",
    "\n",
    "    barcodes = {}\n",
    "    read1_seqs = {}\n",
    "    for record in SeqIO.parse(file, \"fastq\"):\n",
    "        # Make sure the adapter is present and sequence is correct length\n",
    "        if str(record.seq[9:24]) == 'GAGCTGTACAAATAA' and str(record.seq[39:44]) == 'GGATC' and len(str(record.seq)) >= 248:            \n",
    "            q_scores = record.letter_annotations[\"phred_quality\"]\n",
    "            q_scores_read = q_scores[39:248]\n",
    "            read = list(str(record.seq[39:248]))\n",
    "            \n",
    "            bc = record.seq[24:39]\n",
    "\n",
    "            read_qfilter = ''\n",
    "            n_count = 0\n",
    "            for i in range(len(read)):\n",
    "                if q_scores_read[i] < 30:\n",
    "                    read_qfilter += 'N'\n",
    "                    n_count += 1\n",
    "                else:\n",
    "                    read_qfilter += read[i]\n",
    "            \n",
    "            if n_count <= 20:\n",
    "                read1_seqs[record.id] = read_qfilter\n",
    "                barcodes[record.id] = str(bc)\n",
    "    \n",
    "    return barcodes, read1_seqs"
   ]
  },
  {
   "cell_type": "code",
   "execution_count": 3,
   "metadata": {},
   "outputs": [
    {
     "name": "stdout",
     "output_type": "stream",
     "text": [
      "469700 valid read 1 reads\n"
     ]
    }
   ],
   "source": [
    "WT_barcodes = []\n",
    "WT_read1_seqs = []\n",
    "nreads = 0\n",
    "for i in range(1, 11):\n",
    "    folder = 'WT' + str(i)\n",
    "    file_subset = files[folder]\n",
    "    barcodes, read1_seqs = read1_in(file_subset[0])\n",
    "    \n",
    "    nreads += len(read1_seqs)\n",
    "    \n",
    "    WT_barcodes.append(barcodes)\n",
    "    WT_read1_seqs.append(read1_seqs)\n",
    "    \n",
    "print(nreads, 'valid read 1 reads')"
   ]
  },
  {
   "cell_type": "code",
   "execution_count": 4,
   "metadata": {},
   "outputs": [],
   "source": [
    "def read2_in(file):\n",
    "######################################################################################\n",
    "#                                                                                    #\n",
    "# Reads in the read 2 sequence data and stores sequence and barcode data separately. #    \n",
    "#                                                                                    #\n",
    "# Inputs:                                                                            #\n",
    "#      file: full path of file where read 2 data is stored in fastq format.          #\n",
    "# Outputs:                                                                           #\n",
    "#      read2_seqs: dictionary with record ids as keys and a string containing the    #\n",
    "#        first 100 bases of the corresponding read 2 as values.                      #\n",
    "#                                                                                    #\n",
    "######################################################################################\n",
    "\n",
    "    read2_seqs = {}\n",
    "    for record in SeqIO.parse(file, \"fastq\"):\n",
    "        # Make sure the adapter is present and sequence is the correct length\n",
    "        if str(record.seq[3:21]) == 'ACCCAAAGTAGTCGGTTC' and len(str(record.seq)) >= 248:\n",
    "            q_scores = record.letter_annotations[\"phred_quality\"]\n",
    "            q_scores_read = q_scores[21:248]\n",
    "            \n",
    "            read = list(str(record.seq[21:248]))\n",
    "            \n",
    "            read_qfilter = ''\n",
    "            n_count = 0\n",
    "            for i in range(len(read)):\n",
    "                if q_scores_read[i] < 30:\n",
    "                    read_qfilter += 'N'\n",
    "                    n_count += 1\n",
    "                else:\n",
    "                    read_qfilter += read[i]\n",
    "            \n",
    "            if n_count <= 20:\n",
    "                read2_seqs[record.id] = read_qfilter\n",
    "    \n",
    "    return read2_seqs"
   ]
  },
  {
   "cell_type": "code",
   "execution_count": 5,
   "metadata": {},
   "outputs": [
    {
     "name": "stdout",
     "output_type": "stream",
     "text": [
      "442495 valid read 2 reads\n"
     ]
    }
   ],
   "source": [
    "WT_read2_seqs = []\n",
    "nreads = 0\n",
    "for i in range(1, 11):\n",
    "    folder = 'WT' + str(i)\n",
    "    file_subset = files[folder]\n",
    "    read2_seqs = read2_in(file_subset[1])\n",
    "    \n",
    "    nreads += len(read2_seqs)\n",
    "\n",
    "    WT_read2_seqs.append(read2_seqs)\n",
    "    \n",
    "print(nreads, 'valid read 2 reads')"
   ]
  },
  {
   "cell_type": "markdown",
   "metadata": {},
   "source": [
    "## Grouping read pairs into unique infection events by barcode\n",
    "Each half of the read pairs is now associated with a unique record id that corresponds to a single molecule. Moreover, each barcode is now associated with one or more record ids. Most barcodes probably have more than one read pair associated with them as the DNA molecules from each infection are amplified by PCR. We now want to take each unique barcode and, using the record id as an intermediate, find all of the read pairs that are associated with that barcode and group them together. Meanwhile, since we filtered out some reads in the previous step that had adaptor or length issues, we want to make sure that we only keep read pairs where both halves of the pair exist. \n",
    "\n",
    "First we want to focus on just all unique barcodes and make groups of reads associated with identical barcodes, which should correspond to one integration associated with one infection event (more on this assumption later). Then we will collapse these groups if the barcodes are very similar. Finally, we will (somewhat heuristically) remove any abnormally large or small groups."
   ]
  },
  {
   "cell_type": "code",
   "execution_count": 6,
   "metadata": {},
   "outputs": [],
   "source": [
    "def find_barcode_groups(barcodes, read1_seqs, read2_seqs):\n",
    "######################################################################################\n",
    "#                                                                                    #\n",
    "# Groups together read pairs that have the same barcode.                             #    \n",
    "#                                                                                    #\n",
    "# Inputs:                                                                            #\n",
    "#      barcodes: dictionary with record ids as keys and a string containing the 15N  #\n",
    "#        barcode as values.                                                          #  \n",
    "#      read1_seqs: dictionary with record ids as keys and a string containing the    #\n",
    "#        first 100 bases of the corresponding read 1 after the barcode as values.    #\n",
    "#      read2_seqs: dictionary with record ids as keys and a string containing the    #\n",
    "#        first 100 bases of the corresponding read 2 as values.                      #\n",
    "# Outputs:                                                                           #\n",
    "#      barcode_groups: dictionary with 15N barcode (type: str) as keys and           #\n",
    "#        corresponding read pairs (type: tuple of strings) as values. Each key may   #\n",
    "#        have multiple values.                                                       #\n",
    "#      unique_valid: list of unique barcodes (list of strings).                      #\n",
    "#                                                                                    #\n",
    "######################################################################################\n",
    "\n",
    "    # intersect the record ids to find record ids that have both read 1 and read 2\n",
    "    shared_ids = list(read1_seqs.keys() & read2_seqs.keys())\n",
    "\n",
    "    barcode_groups = {}\n",
    "    for idx in shared_ids:\n",
    "        readpair = (read1_seqs[idx], read2_seqs[idx])\n",
    "        bc = barcodes[idx]\n",
    "        \n",
    "        # create a new sublist for each unique barcode and fill it with read pair tuple\n",
    "        barcode_groups[bc] = barcode_groups.get(bc, [])\n",
    "        barcode_groups[bc].append(readpair)\n",
    "    \n",
    "    # get a list of unique barcodes\n",
    "    unique_valid = list(barcode_groups.keys())\n",
    "    \n",
    "    return barcode_groups, unique_valid"
   ]
  },
  {
   "cell_type": "code",
   "execution_count": 7,
   "metadata": {},
   "outputs": [
    {
     "name": "stdout",
     "output_type": "stream",
     "text": [
      "17559 groups of valid read pairs where each group has a unique barcode\n"
     ]
    }
   ],
   "source": [
    "WT_barcode_groups = []\n",
    "WT_unique_valid = []\n",
    "ngroups = 0\n",
    "for i in range(0, 10):\n",
    "    barcode_groups, unique_valid = find_barcode_groups(WT_barcodes[i], WT_read1_seqs[i], WT_read2_seqs[i])\n",
    "    ngroups += len(barcode_groups)\n",
    "    WT_barcode_groups.append(barcode_groups)\n",
    "    WT_unique_valid.append(unique_valid)\n",
    "\n",
    "print(ngroups, \"groups of valid read pairs where each group has a unique barcode\")"
   ]
  },
  {
   "cell_type": "markdown",
   "metadata": {},
   "source": [
    "### Hamming distance\n",
    "Hamming distance is a measure of the difference between two strings of equal length. It is equal to the number of positions at which the corresponding symbols are different. In this implementation, we calculate the Hamming distance by counting the number of unequal positions between the two strings. An example Hamming distance is given between two barcodes drawn from the WT sample."
   ]
  },
  {
   "cell_type": "code",
   "execution_count": 8,
   "metadata": {},
   "outputs": [],
   "source": [
    "def hamming(s1, s2):\n",
    "######################################################################################\n",
    "#                                                                                    #\n",
    "# Takes two sequences and computes the Hamming distance between them.                #  \n",
    "#                                                                                    #\n",
    "# Inputs:                                                                            #\n",
    "#      s1, s2: two DNA sequences of equal length                                     #\n",
    "# Outputs:                                                                           #\n",
    "#      dist: an integer representing the hamming distance                            #\n",
    "#                                                                                    #\n",
    "######################################################################################\n",
    "    \n",
    "    if isinstance(s1, str) == 0:\n",
    "        s1 = str(s1)\n",
    "    if isinstance(s2, str) == 0:\n",
    "        s2 = str(s2)\n",
    "    \n",
    "    s1 = list(s1)\n",
    "    s2 = list(s2)\n",
    "\n",
    "    dist = len([i for i, j in zip(s1, s2) if i != j and i != 'N' and j != 'N'])\n",
    "    \n",
    "    return dist"
   ]
  },
  {
   "cell_type": "code",
   "execution_count": 9,
   "metadata": {},
   "outputs": [
    {
     "name": "stdout",
     "output_type": "stream",
     "text": [
      "GCCCGGACCACGAGG\n",
      "CAACCAACTGCACAA\n",
      "Hamming distance: 11\n"
     ]
    }
   ],
   "source": [
    "print(WT_unique_valid[0][0])\n",
    "print(WT_unique_valid[0][1])\n",
    "print(\"Hamming distance:\", hamming(WT_unique_valid[0][0], WT_unique_valid[0][1]))"
   ]
  },
  {
   "cell_type": "markdown",
   "metadata": {},
   "source": [
    "### Probabilistic interlude #1\n",
    "We are about to use the Hamming distance metric to collapse barcode groups where the barcodes are very similar—specifically, when the distance between two barcodes is one. The motivation for this is that it seems relatively rare that two random 15mers would be so close as to differ by only one base, and PCR errors may be responsible for modifying barcodes that in fact originated from the same infection event.\n",
    "\n",
    "But how likely exactly is it that without errors, no pair of (presumably) random barcodes in a group of several thousand barcodes are exactly one base apart? Well, we can easily find this mathematically: given an equal probability of mutation from or to any base, the probability that two given random 15mers differ by exactly one base is \n",
    "\n",
    "$15\\times 0.25^{14}\\times 0.75 = 4.191\\times 10^{-8}$\n",
    "\n",
    "Extend this to 1000 barcodes (the theoretical number of barcodes in each index) and the probability of having all barcodes be at least 2 bases apart from all other barcodes is\n",
    "\n",
    "$(1 - (15\\times (0.25^{14}\\times 0.75))^{1000} = 0.999958$\n",
    "\n",
    "It therefore seems safe to assume any barcodes that are 1 base apart are a result of PCR errors and did not truly originate from different events.\n",
    "\n",
    "Note that in the above hamming_collapse function, I collapsed the barcodes into groups of a particular geometry. By this I mean that if a group is depicted as a graph where barcodes are nodes and edges exist where two nodes are at a Hamming distance of one, the graph has the following properties: \n",
    "\n",
    "1. Each node shares an edge with at least one other node\n",
    "\n",
    "2. Every pair of nodes has a path between them (the graph is connected)\n",
    "\n",
    "3. Each pair of nodes does not necessarily have an edge between them (the graph is not necessarily complete)\n",
    "\n",
    "In other words, if a group contains barcodes A, B, and C, A and B may be different by one base and B and C may be different by one base, but A and C can be different by either one or two bases. This can theoretically result in an arbitrarily long chain of barcodes. I chose to ignore this (instead removing large groups at the end) as I couldnt come up with a better solution. \n"
   ]
  },
  {
   "cell_type": "code",
   "execution_count": 10,
   "metadata": {},
   "outputs": [],
   "source": [
    "def hamming_collapse(unique_valid): \n",
    "######################################################################################\n",
    "#                                                                                    #\n",
    "# Collapses barcodes into groups where barcodes within the group differ by one base  #\n",
    "#   (Hamming distance of 1) and removes groups that contain more than 3 barcodes to  #\n",
    "#   remove abnormally complex groups.                                                #\n",
    "#                                                                                    #\n",
    "# Inputs:                                                                            #\n",
    "#      unique_valid: list of unique barcodes (list of strings).                      #\n",
    "# Outputs:                                                                           #\n",
    "#      hamm1_reduced: list of sublists where each sublist contains all of the tuples #\n",
    "#        of read 1 and read 2 pairs that belong in one barcode group. If the barcode #\n",
    "#        group has more than one barcode, the sublist will contain as many lists as  #\n",
    "#        barcodes in the group.                                                      #\n",
    "#                                                                                    #\n",
    "######################################################################################\n",
    "\n",
    "    unique_hamm1 = dict((k, 0) for k in unique_valid)\n",
    "    unique_hamm1[unique_valid[0]] = 1\n",
    "\n",
    "    counter = 0\n",
    "    for i in unique_valid:\n",
    "        counter += 1\n",
    "        if unique_hamm1[i] == 0:\n",
    "            unique_hamm1[i] = max(unique_hamm1.values()) + 1\n",
    "        for j in unique_valid[counter: ]:\n",
    "            if hamming(i, j) <= 1:\n",
    "                unique_hamm1[j] = unique_hamm1[i]\n",
    "\n",
    "    hamm1_groups = {}\n",
    "    for k, v in unique_hamm1.items():\n",
    "        hamm1_groups[v] = hamm1_groups.get(v, [])\n",
    "        hamm1_groups[v].append(k)\n",
    "    \n",
    "    hamm1_reduced = []\n",
    "    for v in hamm1_groups.values():\n",
    "        if len(v) <= 6:\n",
    "            hamm1_reduced.append(v)\n",
    "    \n",
    "    return hamm1_reduced"
   ]
  },
  {
   "cell_type": "code",
   "execution_count": 11,
   "metadata": {},
   "outputs": [
    {
     "name": "stdout",
     "output_type": "stream",
     "text": [
      "11081 barcodes after collapsing within a Hamming distance of 1 and removing groups of large size\n"
     ]
    }
   ],
   "source": [
    "WT_hamm1_reduced = []\n",
    "ngroups_collapsed = 0\n",
    "for i in range(0, 10):\n",
    "    hamm1_reduced = hamming_collapse(WT_unique_valid[i])\n",
    "    ngroups_collapsed += len(hamm1_reduced)\n",
    "    WT_hamm1_reduced.append(hamm1_reduced)\n",
    "\n",
    "print(ngroups_collapsed, \"barcodes after collapsing within a Hamming distance of 1 and removing groups of large size\")"
   ]
  },
  {
   "cell_type": "markdown",
   "metadata": {},
   "source": [
    "## Flattening and quality control\n",
    "Now that we have the barcode groups, all that remains are a few quality control and processing steps. First we need to flatten the sublists in each barcode group (to remove the boundary between two barcodes within the same group) and remove barcode groups with a very small number of read pairs. Then we will concatenate the read 1 and read 2 sequences into one string, which will make them slightly easier to work with later. Then we will make sure that each sequence within a group is identical (more on this in a bit).\n",
    "\n",
    "First, let's take a look at the number of read pairs per barcode."
   ]
  },
  {
   "cell_type": "code",
   "execution_count": 25,
   "metadata": {},
   "outputs": [
    {
     "data": {
      "image/png": "[encoded data removed]",
      "text/plain": [
       "<Figure size 432x288 with 1 Axes>"
      ]
     },
     "metadata": {
      "needs_background": "light"
     },
     "output_type": "display_data"
    }
   ],
   "source": [
    "reads_per_barcode = []\n",
    "for i in range(0,10):\n",
    "    for group in hamm1_reduced:\n",
    "        seqs_hamm = []\n",
    "        for i in range(len(group)):\n",
    "            seqs_hamm.append(barcode_groups[group[i]])\n",
    "        seqs_hamm_flat = [seq for sublist in seqs_hamm for seq in sublist]\n",
    "        reads_per_barcode.append(len(seqs_hamm_flat))\n",
    "\n",
    "_, _, patch = plt.hist(reads_per_barcode, 100, density=1, histtype = 'step', facecolor='blue')\n",
    "\n",
    "plt.xlabel('Number of reads')\n",
    "plt.ylabel('Probability')\n",
    "plt.title('Histogram of Number of Reads per Barcode')\n",
    "plt.show()"
   ]
  },
  {
   "cell_type": "markdown",
   "metadata": {},
   "source": [
    "As we can see, there are a lot of barcodes with very few (~1) reads. This is probably some sort of artifact of PCR or sequencing error. Let's see what happens if we plot only the barcodes with at least 10 reads:"
   ]
  },
  {
   "cell_type": "code",
   "execution_count": 28,
   "metadata": {},
   "outputs": [
    {
     "data": {
      "image/png": "[encoded data removed]",
      "text/plain": [
       "<Figure size 432x288 with 1 Axes>"
      ]
     },
     "metadata": {
      "needs_background": "light"
     },
     "output_type": "display_data"
    }
   ],
   "source": [
    "reads_per_barcode = []\n",
    "for i in range(0,10):\n",
    "    for group in hamm1_reduced:\n",
    "        seqs_hamm = []\n",
    "        for i in range(len(group)):\n",
    "            seqs_hamm.append(barcode_groups[group[i]])\n",
    "        seqs_hamm_flat = [seq for sublist in seqs_hamm for seq in sublist]\n",
    "        \n",
    "        if len(seqs_hamm_flat) >= 10:\n",
    "            reads_per_barcode.append(len(seqs_hamm_flat))\n",
    "\n",
    "_, _, patch = plt.hist(reads_per_barcode, 100, density=1, histtype = 'step', facecolor='blue')\n",
    "\n",
    "plt.xlabel('Number of reads')\n",
    "plt.ylabel('Probability')\n",
    "plt.title('Histogram of Number of Reads per Barcode')\n",
    "plt.show()"
   ]
  },
  {
   "cell_type": "markdown",
   "metadata": {},
   "source": [
    "This looks a lot more reasonable, and it's also no longer zero-centered (or 10-centered, as you will), which indicates that the \"real\" barcodes with >10 reads are saturated. In other words, if we did more sequencing on this data, we would probably not recover any new real barcodes. Now let's use the cutoff of 10 reads per barcode."
   ]
  },
  {
   "cell_type": "code",
   "execution_count": 30,
   "metadata": {},
   "outputs": [],
   "source": [
    "def combine_seqs(hamm1_reduced, barcode_groups):\n",
    "######################################################################################\n",
    "#                                                                                    #\n",
    "# A housekeeping function that flattens the barcode groups into a list of sublists   # \n",
    "#   where each sublist contains the reads for one barcode group, removes barcode     #\n",
    "#   groups that don't have at least two read pairs, and finally concatenates the     #\n",
    "#   read pair into one string that contains both read 1 and read 2.                  #\n",
    "#                                                                                    #\n",
    "# Inputs:                                                                            #\n",
    "#      hamm1_reduced: list of sublists where each sublist contains all of the tuples #\n",
    "#        of read 1 and read 2 pairs that belong in one barcode group. If the barcode #\n",
    "#        group has more than one barcode, the sublist will contain as many lists as  #\n",
    "#        barcodes in the group.                                                      #\n",
    "#      barcode_groups: dictionary with 15N barcode (type: str) as keys and           #\n",
    "#        corresponding read pairs (type: tuple of strings) as values. Each key may   #\n",
    "#        have multiple values.                                                       #\n",
    "# Outputs:                                                                           #\n",
    "#      seqs_concat: a list of sublists where each sublist contains all of the        #\n",
    "#        sequences in a barcode group (list of flattened sublists of strings). Each  #\n",
    "#        string corresponds to one read pair.                                        #\n",
    "#                                                                                    #\n",
    "######################################################################################\n",
    "\n",
    "    seqs_groups = []\n",
    "    for group in hamm1_reduced:\n",
    "        seqs_hamm = []\n",
    "        for i in range(len(group)):\n",
    "            seqs_hamm.append(barcode_groups[group[i]])\n",
    "        seqs_hamm_flat = [seq for sublist in seqs_hamm for seq in sublist]\n",
    "        if len(seqs_hamm_flat) >= 10:\n",
    "            seqs_groups.append(seqs_hamm_flat)\n",
    "    \n",
    "    seqs_concat = []\n",
    "    for group in seqs_groups:\n",
    "        seqs_concat_grp = []\n",
    "        for pair in group:\n",
    "            seqs_concat_grp.append(pair[0] + pair[1])\n",
    "        seqs_concat.append(seqs_concat_grp)\n",
    "        \n",
    "    return seqs_concat"
   ]
  },
  {
   "cell_type": "code",
   "execution_count": 32,
   "metadata": {},
   "outputs": [
    {
     "name": "stdout",
     "output_type": "stream",
     "text": [
      "4592 barcode groups with ten or more read pairs\n"
     ]
    }
   ],
   "source": [
    "WT_seqs_concat_nested = []\n",
    "for i in range(0, 10):\n",
    "    seqs_concat = combine_seqs(WT_hamm1_reduced[i], WT_barcode_groups[i])\n",
    "    WT_seqs_concat_nested.append(seqs_concat)\n",
    "\n",
    "WT_seqs_concat = [seq for sublist in WT_seqs_concat_nested for seq in sublist]\n",
    "\n",
    "print(len(WT_seqs_concat), \"barcode groups with ten or more read pairs\")"
   ]
  },
  {
   "cell_type": "markdown",
   "metadata": {},
   "source": [
    "### Managing internal disagreement within barcode groups\n",
    "So far we have created groups of reads that either came from the same barcode or came from barcodes that were only one base apart. We assume that each of these groups of reads corresponds to a single unique virus infecting a single cell, which should mean that all of the sequences within a barcode group are identical save for errors introduced in PCR. Note that this assumption only holds if there were the correct number of viruses added to the cells such that \n",
    "\n",
    "1. Each cell is only infected by one virus, and\n",
    "\n",
    "2. No two viruses have the same barcode.\n",
    "\n",
    "1 is mostly taken care of by the low MOI used to infect (MOI of ~0.1 ensures <1% multiple infection). 2 is trickier and it relies on the assumption that the library of viruses is sufficiently diverse to favor unique barcodes. My calculations indicated that around 57,000 unique transformants went into the maxiprep that produced the plasmid containing the barcode. Assuming that this complexity was preserved through maxiprep and transfection, at an MOI of 0.1 each well containing 2,000,000 cells was infected with 100,000 viruses. The number of times each barcode is drawn with 100,000 trials can be modeled with a multinomial distribution where the probability of each barcode being drawn is 1/57000. Let's model this in the code block below."
   ]
  },
  {
   "cell_type": "code",
   "execution_count": 33,
   "metadata": {},
   "outputs": [
    {
     "name": "stdout",
     "output_type": "stream",
     "text": [
      "63.29 % of all barcodes correspond to non-unique barcodes\n"
     ]
    }
   ],
   "source": [
    "mv = np.random.multinomial(100000, [1/57000]*57000, 100)\n",
    "total_viruses = np.sum(mv >= 1, 1)\n",
    "total_multiples = np.sum(mv >= 2, 1)\n",
    "percent_multiples = np.average(np.divide(total_multiples, total_viruses))\n",
    "print(round(100*percent_multiples, 2), \"% of all barcodes correspond to non-unique barcodes\")"
   ]
  },
  {
   "cell_type": "markdown",
   "metadata": {},
   "source": [
    "However, we aren't taking all of the cells in the original sample, only 10,000 of them. This introduces some narrowing of barcodes and already starts to limit the number of barcode collisions. We can model this with a multivariate hypergeometric distribution, which is the generalization of the hypergeometric distribution. It goes like this: say that there are $K_{i}$ balls of color $i$ in the urn, and you draw $n$ balls without replacement. Then the number of balls of each color in the sample $(k_{1}, k_{2}, ..., k_{c})$ has the multivariate hypergeometric distribution. In python we define this distribution in terms of the hypergeometric distribution."
   ]
  },
  {
   "cell_type": "code",
   "execution_count": 34,
   "metadata": {},
   "outputs": [],
   "source": [
    "def multi_hypergeom(m, colors):\n",
    "    remaining = np.cumsum(colors[::-1])[::-1]\n",
    "    result = np.zeros(len(colors), dtype=np.int)\n",
    "    for i in range(len(colors)-1):\n",
    "        if m < 1:\n",
    "            break\n",
    "        result[i] = np.random.hypergeometric(colors[i], remaining[i+1], m)\n",
    "        m -= result[i]\n",
    "    result[-1] = m\n",
    "    return result"
   ]
  },
  {
   "cell_type": "markdown",
   "metadata": {},
   "source": [
    "Now the colors are barcodes and the balls are viruses, and the number of viruses with each barcode is taken from the multinomial sampling done above. First, we do 10,000 draws to model the initial flow sorting of 10,000 cells. Then we do 1000 draws on the result of the original 10,000 draws to model partitioning the cells out into ten different indices."
   ]
  },
  {
   "cell_type": "code",
   "execution_count": 38,
   "metadata": {},
   "outputs": [
    {
     "name": "stdout",
     "output_type": "stream",
     "text": [
      "1.3 % of all barcodes correspond to non-unique barcodes\n"
     ]
    }
   ],
   "source": [
    "virus_counts_unstripped = list(mv[0])\n",
    "virus_counts = []\n",
    "for i in virus_counts_unstripped:\n",
    "    if i != 0:\n",
    "        virus_counts.append(i)\n",
    "\n",
    "# Sample 10,000 cells from flow sorting\n",
    "virus_counts = np.array(virus_counts)\n",
    "draws_sort = 10000\n",
    "counts_sorted = multi_hypergeom(draws_sort, virus_counts)\n",
    "\n",
    "# Sample 1000 from the 10,000 to model partitioning into indices\n",
    "draws_partition = 1000\n",
    "counts_partitioned = multi_hypergeom(draws_partition, counts_sorted)\n",
    "\n",
    "total_viruses = np.sum(counts_partitioned)\n",
    "total_multiples = np.sum(counts_partitioned >= 2)\n",
    "percent_multiples = total_multiples / total_viruses\n",
    "print(round(100*percent_multiples, 2), \"% of all barcodes correspond to non-unique barcodes\")"
   ]
  },
  {
   "cell_type": "markdown",
   "metadata": {},
   "source": [
    "We now know that very few barcodes will be examples of two identical viruses infecting different cells. However, some of the reads contained within a group of reads corresponding to a single barcode still have internal disagreements. This is most likely due to PCR errors. We therefore need to correct these errors where we can by identifying the consensus sequence across reads belonging to one barcode, discarding barcodes (and corresponding reads) when no consensus can be found.\n",
    "\n",
    "In order to do that, I am going to take the average base at each position and make that the consensus base at said position. If any position does not have at least 50% of the reads as one base, then that entire group will be discarded. In order to find the average base we must first convert sequences to one-hot encoding, and then find the consensus sequence by base averaging."
   ]
  },
  {
   "cell_type": "code",
   "execution_count": 39,
   "metadata": {},
   "outputs": [],
   "source": [
    "def sequences_to_one_hot(sequences, chars = 'ACGTN'):\n",
    "    \n",
    "    seqlen = len(sequences[0])\n",
    "    char_to_int = dict((c, i) for i, c in enumerate(chars))\n",
    "\n",
    "    one_hot_encoded = []\n",
    "    for seq in sequences:\n",
    "        onehot_seq = []\n",
    "        \n",
    "        integer_encoded = [char_to_int[base] for base in seq]\n",
    "        for value in integer_encoded:\n",
    "            letter = [0 for _ in range(len(chars))]\n",
    "            letter[value] = 1\n",
    "            onehot_seq.append(letter)\n",
    "        one_hot_encoded.append(onehot_seq)\n",
    "        \n",
    "    one_hot_encoded = np.array(one_hot_encoded)\n",
    "    \n",
    "    return one_hot_encoded"
   ]
  },
  {
   "cell_type": "code",
   "execution_count": 40,
   "metadata": {},
   "outputs": [],
   "source": [
    "def find_multiple_alignment(seqs_concat):\n",
    "    \n",
    "    true_seqs = []\n",
    "    chars = 'ACGTN'\n",
    "    for group in seqs_concat:\n",
    "        onehot_group = sequences_to_one_hot(group, chars)\n",
    "        onehot_group = np.delete(onehot_group, 4, 2)\n",
    "        \n",
    "        base_averages = np.average(onehot_group, axis = 0)\n",
    "        top_base = np.argmax(base_averages, axis = 1)\n",
    "        top_base_acc = np.amax(base_averages, axis = 1)\n",
    "\n",
    "        int_to_char = dict((i, c) for i, c in enumerate(chars))\n",
    "        \n",
    "        if np.amin(top_base_acc) >= 0.50:\n",
    "            consensus_bases = np.ndarray.tolist(top_base)\n",
    "            consensus_bases = [int_to_char[base] for base in consensus_bases]\n",
    "            true_seqs.append(''.join(consensus_bases))\n",
    "    \n",
    "    return true_seqs"
   ]
  },
  {
   "cell_type": "code",
   "execution_count": 28,
   "metadata": {
    "scrolled": false
   },
   "outputs": [
    {
     "name": "stdout",
     "output_type": "stream",
     "text": [
      "38 barcode groups with mismatches between reads\n",
      "4554 barcode groups without mismatches between reads\n"
     ]
    }
   ],
   "source": [
    "WT_true_seqs = find_multiple_alignment(WT_seqs_concat)\n",
    "print(len(WT_seqs_concat) - len(WT_true_seqs), \"barcode groups with mismatches between reads\")\n",
    "print(len(WT_true_seqs), \"barcode groups without mismatches between reads\")"
   ]
  },
  {
   "cell_type": "markdown",
   "metadata": {},
   "source": [
    "## Error rate calculation\n",
    "Now we have sequences that theoretically correspond to single infection events. All that's left to calculate the error rate by comparing the sequences to the CMV IRES (the region that was sequenced)."
   ]
  },
  {
   "cell_type": "code",
   "execution_count": 29,
   "metadata": {},
   "outputs": [],
   "source": [
    "IRES_read1_fasta = SeqIO.read(\"IRES_read1.fasta\", \"fasta\")\n",
    "IRES_read1 = IRES_read1_fasta.seq[0:209]\n",
    "\n",
    "IRES_read2_fasta = SeqIO.read(\"IRES_read2.fasta\", \"fasta\")\n",
    "IRES_read2 = IRES_read2_fasta.seq[21:248]\n",
    "\n",
    "IRES = str(IRES_read1) + str(IRES_read2)"
   ]
  },
  {
   "cell_type": "code",
   "execution_count": 30,
   "metadata": {},
   "outputs": [],
   "source": [
    "def calc_error_rate(true_seqs, reference):\n",
    "######################################################################################\n",
    "#                                                                                    #\n",
    "# Finds errors between sequences and a reference and calculates the total error      #\n",
    "#   rate.                                                                            #\n",
    "#                                                                                    #\n",
    "# Inputs:                                                                            #\n",
    "#      true_seqs: a list of sequences where each sequence corresponds one-to-one     #\n",
    "#        with a barcode group. List of strings.                                      #\n",
    "#      reference: a string of the same length of each element of true_seqs           #\n",
    "#        representing the reference sequence.                                        #\n",
    "# Outputs:                                                                           #\n",
    "#      bases_per_error: float representing the error rate in bases per error.        #\n",
    "#                                                                                    #\n",
    "######################################################################################\n",
    "\n",
    "    nerror_list = []\n",
    "    seqs_tested = 0\n",
    "    for seq in true_seqs:\n",
    "        errors = hamming(seq, reference)\n",
    "        if errors <= 2:\n",
    "            nerror_list.append(errors)\n",
    "            seqs_tested += 1\n",
    "        \n",
    "    nerrors = sum(nerror_list)\n",
    "    bases_tested = len(reference) * seqs_tested\n",
    "    if sum(nerror_list) == 0:\n",
    "        bases_per_error = float('nan')\n",
    "    else:\n",
    "        bases_per_error =  nerrors / bases_tested\n",
    "    \n",
    "    return bases_per_error, nerrors, bases_tested, seqs_tested"
   ]
  },
  {
   "cell_type": "code",
   "execution_count": 31,
   "metadata": {},
   "outputs": [
    {
     "name": "stdout",
     "output_type": "stream",
     "text": [
      "Error rate: 1 error per 73522 bases\n"
     ]
    }
   ],
   "source": [
    "WT_error_rate, _, _, _ = calc_error_rate(WT_true_seqs, IRES)\n",
    "print(\"Error rate: 1 error per\", int(1/WT_error_rate), \"bases\")"
   ]
  },
  {
   "cell_type": "code",
   "execution_count": 32,
   "metadata": {},
   "outputs": [
    {
     "name": "stdout",
     "output_type": "stream",
     "text": [
      "Calculating for sample WT\n",
      "Calculating for sample A272S\n",
      "Calculating for sample K65R\n",
      "Calculating for sample K70E\n",
      "Calculating for sample L74I\n",
      "Calculating for sample L74V\n",
      "Calculating for sample M184I\n",
      "Calculating for sample Q151M\n",
      "Done\n"
     ]
    }
   ],
   "source": [
    "barcode_numbers = {}\n",
    "error_rates = {}\n",
    "samples = ['WT', 'A272S', 'K65R', 'K70E', 'L74I', 'L74V', 'M184I', 'Q151M']\n",
    "\n",
    "for sample in samples:\n",
    "    print(\"Calculating for sample\", sample)\n",
    "    \n",
    "    s_seqs_concat_nested = []\n",
    "    for i in range(1, 11):\n",
    "        folder = sample + str(i)\n",
    "        file_subset = files[folder]\n",
    "        \n",
    "        barcodes, read1_seqs = read1_in(file_subset[0])\n",
    "        read2_seqs = read2_in(file_subset[1])\n",
    "        barcode_groups, unique_valid = find_barcode_groups(barcodes, read1_seqs, read2_seqs)\n",
    "        \n",
    "        hamm1_reduced = hamming_collapse(unique_valid)\n",
    "        \n",
    "        seqs_concat = combine_seqs(hamm1_reduced, barcode_groups)\n",
    "        s_seqs_concat_nested.append(seqs_concat)\n",
    "    \n",
    "    s_seqs_concat = [seq for sublist in s_seqs_concat_nested for seq in sublist]  \n",
    "    s_true_seqs = find_multiple_alignment(s_seqs_concat)\n",
    "    \n",
    "    s_error_rate, s_nerrors, s_bases_tested, s_seqs_tested = calc_error_rate(s_true_seqs, IRES)\n",
    "    \n",
    "    barcode_numbers[sample] = s_seqs_tested\n",
    "    error_rates[sample] = (s_error_rate, s_nerrors, s_bases_tested)\n",
    "        \n",
    "print(\"Done\")"
   ]
  },
  {
   "cell_type": "code",
   "execution_count": 33,
   "metadata": {},
   "outputs": [
    {
     "name": "stdout",
     "output_type": "stream",
     "text": [
      "{'WT': 4553, 'A272S': 5631, 'K65R': 10584, 'K70E': 3817, 'L74I': 5872, 'L74V': 8310, 'M184I': 5071, 'Q151M': 10}\n"
     ]
    }
   ],
   "source": [
    "print(barcode_numbers)"
   ]
  },
  {
   "cell_type": "code",
   "execution_count": 34,
   "metadata": {},
   "outputs": [
    {
     "name": "stdout",
     "output_type": "stream",
     "text": [
      "{'WT': (1.360127509435255e-05, 27, 1985108), 'A272S': (8.146254596524155e-06, 20, 2455116), 'K65R': (4.984154722031524e-06, 23, 4614624), 'K70E': (1.2017699668071136e-05, 20, 1664212), 'L74I': (1.367084968627353e-05, 35, 2560192), 'L74V': (9.108071407279834e-06, 33, 3623160), 'M184I': (1.2211911951210245e-05, 27, 2210956), 'Q151M': (nan, 0, 4360)}\n"
     ]
    }
   ],
   "source": [
    "print(error_rates)"
   ]
  }
 ],
 "metadata": {
  "kernelspec": {
   "display_name": "Python 3",
   "language": "python",
   "name": "python3"
  },
  "language_info": {
   "codemirror_mode": {
    "name": "ipython",
    "version": 3
   },
   "file_extension": ".py",
   "mimetype": "text/x-python",
   "name": "python",
   "nbconvert_exporter": "python",
   "pygments_lexer": "ipython3",
   "version": "3.7.2"
  }
 },
 "nbformat": 4,
 "nbformat_minor": 2
}
