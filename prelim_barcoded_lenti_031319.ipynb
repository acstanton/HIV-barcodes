{
 "cells": [
  {
   "cell_type": "markdown",
   "metadata": {},
   "source": [
    "# Preliminary run on barcoded pol mutant lentivirus\n",
    "\n",
    "Allie Stanton\n",
    "\n",
    "Data is from a MiSeq run with 250k reads started on March 13, 2019. The input material was from 293Ts transfected with approximately 0.02 MOI of lentivirus with a 15N barcode (plasmid 2626) and different single AA polymerase mutants."
   ]
  },
  {
   "cell_type": "markdown",
   "metadata": {},
   "source": [
    "## Reading in files\n",
    "\n",
    "First I'll create a dictionary with the sample names (mutants) as keys and read 1 and read 2 file names as values. Then I'll define the functions that read in the data. I'll use the A272S sample as an example to go through each of the functions once and demonstrate their purpose before processing all of the samples."
   ]
  },
  {
   "cell_type": "code",
   "execution_count": 1,
   "metadata": {},
   "outputs": [],
   "source": [
    "from Bio import SeqIO\n",
    "import itertools\n",
    "import os\n",
    "import random\n",
    "import matplotlib.pyplot as plt\n",
    "import numpy as np\n",
    "\n",
    "files = {}\n",
    "seqdir = os.path.join(os.getcwd(), \"sequences\")\n",
    "for directory in os.listdir(seqdir):\n",
    "    if not directory.startswith(\".\") and not directory.startswith(\"GFP\"):\n",
    "        longdir = os.path.join(seqdir, directory)\n",
    "        for file in os.listdir(longdir):\n",
    "            filename = os.fsdecode(file)\n",
    "            if file.endswith(\"R1_001.fastq\"):\n",
    "                read1_file = os.path.join(longdir, filename)\n",
    "            elif file.endswith(\"R2_001.fastq\"):\n",
    "                read2_file = os.path.join(longdir, filename)\n",
    "        files[directory] = (read1_file, read2_file)"
   ]
  },
  {
   "cell_type": "code",
   "execution_count": 2,
   "metadata": {},
   "outputs": [],
   "source": [
    "def read1_in(file):\n",
    "######################################################################################\n",
    "#                                                                                    #\n",
    "# Reads in the read 1 sequence data and stores sequence and barcode data separately. #    \n",
    "#                                                                                    #\n",
    "# Inputs:                                                                            #\n",
    "#      file: full path of file where read 1 data is stored in fastq format.          #\n",
    "# Outputs:                                                                           #\n",
    "#      barcodes: dictionary with record ids as keys and a string containing the 15N  #\n",
    "#        barcode as values.                                                          #          \n",
    "#      read1_seqs: dictionary with record ids as keys and a string containing the    #\n",
    "#        first 100 bases of the corresponding read 1 after the barcode as values.    #\n",
    "#                                                                                    #\n",
    "######################################################################################\n",
    "\n",
    "    barcodes = {}\n",
    "    read1_seqs = {}\n",
    "    for record in SeqIO.parse(file, \"fastq\"):\n",
    "        # Make sure the adapter is present and sequence is correct length\n",
    "        if str(record.seq[7:22]) == 'CTGTTTTAAGGATCC' and len(str(record.seq)) >= 149:\n",
    "            bc = record.seq[22:37]\n",
    "            barcodes[record.id] = str(bc)\n",
    "            \n",
    "            q_scores = record.letter_annotations[\"phred_quality\"]\n",
    "            q_scores_read = q_scores[37:149]\n",
    "            read = list(str(record.seq[37:149]))\n",
    "\n",
    "            read_qfilter = ''\n",
    "            n_count = 0\n",
    "            for i in range(len(read)):\n",
    "                if q_scores_read[i] < 30:\n",
    "                    read_qfilter += 'N'\n",
    "                    n_count += 1\n",
    "                else:\n",
    "                    read_qfilter += read[i]\n",
    "            \n",
    "            if n_count <= 10:\n",
    "                read1_seqs[record.id] = read_qfilter\n",
    "    \n",
    "    return barcodes, read1_seqs"
   ]
  },
  {
   "cell_type": "code",
   "execution_count": 3,
   "metadata": {},
   "outputs": [
    {
     "name": "stdout",
     "output_type": "stream",
     "text": [
      "23671 valid read 1 reads\n"
     ]
    }
   ],
   "source": [
    "A272S_files = files['A272S']\n",
    "A272S_barcodes, A272S_read1_seqs = read1_in(A272S_files[0])\n",
    "print(len(A272S_read1_seqs), \"valid read 1 reads\")"
   ]
  },
  {
   "cell_type": "code",
   "execution_count": 4,
   "metadata": {},
   "outputs": [],
   "source": [
    "def read2_in(file):\n",
    "######################################################################################\n",
    "#                                                                                    #\n",
    "# Reads in the read 2 sequence data and stores sequence and barcode data separately. #    \n",
    "#                                                                                    #\n",
    "# Inputs:                                                                            #\n",
    "#      file: full path of file where read 2 data is stored in fastq format.          #\n",
    "# Outputs:                                                                           #\n",
    "#      read2_seqs: dictionary with record ids as keys and a string containing the    #\n",
    "#        first 100 bases of the corresponding read 2 as values.                      #\n",
    "#                                                                                    #\n",
    "######################################################################################\n",
    "\n",
    "    read2_seqs = {}\n",
    "    for record in SeqIO.parse(file, \"fastq\"):\n",
    "        # Make sure the adapter is present and sequence is the correct length\n",
    "        if str(record.seq[3:14]) == 'CGGCGGCCGCC' and len(str(record.seq)) >= 149:\n",
    "            q_scores = record.letter_annotations[\"phred_quality\"]\n",
    "            q_scores_read = q_scores[14:149]\n",
    "            \n",
    "            read = list(str(record.seq[14:149]))\n",
    "            \n",
    "            read_qfilter = ''\n",
    "            n_count = 0\n",
    "            for i in range(len(read)):\n",
    "                if q_scores_read[i] < 30:\n",
    "                    read_qfilter += 'N'\n",
    "                    n_count += 1\n",
    "                else:\n",
    "                    read_qfilter += read[i]\n",
    "            \n",
    "            if n_count <= 10:\n",
    "                read2_seqs[record.id] = read_qfilter\n",
    "    \n",
    "    return read2_seqs"
   ]
  },
  {
   "cell_type": "code",
   "execution_count": 5,
   "metadata": {},
   "outputs": [
    {
     "name": "stdout",
     "output_type": "stream",
     "text": [
      "19550 valid read 2 reads\n"
     ]
    }
   ],
   "source": [
    "A272S_read2_seqs = read2_in(A272S_files[1])\n",
    "print(len(A272S_read2_seqs), \"valid read 2 reads\")"
   ]
  },
  {
   "cell_type": "markdown",
   "metadata": {},
   "source": [
    "## Grouping read pairs into unique infection events by barcode\n",
    "Each half of the read pairs is now associated with a unique record id that corresponds to a single molecule. Moreover, each barcode is now associated with one or more record ids. Most barcodes probably have more than one read pair associated with them as the DNA molecules from each infection are amplified by PCR. We now want to take each unique barcode and, using the record id as an intermediate, find all of the read pairs that are associated with that barcode and group them together. Meanwhile, since we filtered out some reads in the previous step that had adaptor or length issues, we want to make sure that we only keep read pairs where both halves of the pair exist. \n",
    "\n",
    "First we want to focus on just all unique barcodes and make groups of reads associated with identical barcodes, which should correspond to one integration associated with one infection event (more on this assumption later). Then we will collapse these groups if the barcodes are very similar. Finally, we will (somewhat heuristically) remove any abnormally large or small groups."
   ]
  },
  {
   "cell_type": "code",
   "execution_count": 6,
   "metadata": {},
   "outputs": [],
   "source": [
    "def find_barcode_groups(barcodes, read1_seqs, read2_seqs):\n",
    "######################################################################################\n",
    "#                                                                                    #\n",
    "# Groups together read pairs that have the same barcode.                             #    \n",
    "#                                                                                    #\n",
    "# Inputs:                                                                            #\n",
    "#      barcodes: dictionary with record ids as keys and a string containing the 15N  #\n",
    "#        barcode as values.                                                          #  \n",
    "#      read1_seqs: dictionary with record ids as keys and a string containing the    #\n",
    "#        first 100 bases of the corresponding read 1 after the barcode as values.    #\n",
    "#      read2_seqs: dictionary with record ids as keys and a string containing the    #\n",
    "#        first 100 bases of the corresponding read 2 as values.                      #\n",
    "# Outputs:                                                                           #\n",
    "#      barcode_groups: dictionary with 15N barcode (type: str) as keys and           #\n",
    "#        corresponding read pairs (type: tuple of strings) as values. Each key may   #\n",
    "#        have multiple values.                                                       #\n",
    "#      unique_valid: list of unique barcodes (list of strings).                      #\n",
    "#                                                                                    #\n",
    "######################################################################################\n",
    "\n",
    "    # intersect the record ids to find record ids that have both read 1 and read 2\n",
    "    shared_ids = list(read1_seqs.keys() & read2_seqs.keys())\n",
    "\n",
    "    barcode_groups = {}\n",
    "    for idx in shared_ids:\n",
    "        readpair = (read1_seqs[idx], read2_seqs[idx])\n",
    "        bc = barcodes[idx]\n",
    "        \n",
    "        # create a new sublist for each unique barcode and fill it with read pair tuple\n",
    "        barcode_groups[bc] = barcode_groups.get(bc, [])\n",
    "        barcode_groups[bc].append(readpair)\n",
    "    \n",
    "    # get a list of unique barcodes\n",
    "    unique_valid = list(barcode_groups.keys())\n",
    "    \n",
    "    return barcode_groups, unique_valid"
   ]
  },
  {
   "cell_type": "code",
   "execution_count": 7,
   "metadata": {},
   "outputs": [
    {
     "name": "stdout",
     "output_type": "stream",
     "text": [
      "3600 groups of valid read pairs where each group has a unique barcode\n"
     ]
    }
   ],
   "source": [
    "A272S_barcode_groups, A272S_unique_valid = find_barcode_groups(A272S_barcodes, A272S_read1_seqs, A272S_read2_seqs)\n",
    "print(len(A272S_barcode_groups), \"groups of valid read pairs where each group has a unique barcode\")"
   ]
  },
  {
   "cell_type": "markdown",
   "metadata": {},
   "source": [
    "### Hamming distance\n",
    "Hamming distance is a measure of the difference between two strings of equal length. It is equal to the number of positions at which the corresponding symbols are different. In this implementation, we calculate the Hamming distance by counting the number of unequal positions between the two strings. An example Hamming distance is given between two barcodes drawn from the A272S sample."
   ]
  },
  {
   "cell_type": "code",
   "execution_count": 8,
   "metadata": {},
   "outputs": [],
   "source": [
    "def hamming(s1, s2):\n",
    "######################################################################################\n",
    "#                                                                                    #\n",
    "# Takes two sequences and computes the Hamming distance between them.                #  \n",
    "#                                                                                    #\n",
    "# Inputs:                                                                            #\n",
    "#      s1, s2: two DNA sequences of equal length                                     #\n",
    "# Outputs:                                                                           #\n",
    "#      dist: an integer representing the hamming distance                            #\n",
    "#                                                                                    #\n",
    "######################################################################################\n",
    "    \n",
    "    if isinstance(s1, str) == 0:\n",
    "        s1 = str(s1)\n",
    "    if isinstance(s2, str) == 0:\n",
    "        s2 = str(s2)\n",
    "    \n",
    "    s1 = list(s1)\n",
    "    s2 = list(s2)\n",
    "\n",
    "    dist = len([i for i, j in zip(s1, s2) if i != j and i != 'N' and j != 'N'])\n",
    "    \n",
    "    return dist"
   ]
  },
  {
   "cell_type": "code",
   "execution_count": 9,
   "metadata": {
    "scrolled": true
   },
   "outputs": [
    {
     "name": "stdout",
     "output_type": "stream",
     "text": [
      "CAGTGCGGGGTGAGG\n",
      "GTGGCCTTGGGGCAC\n",
      "Hamming distance: 10\n"
     ]
    }
   ],
   "source": [
    "print(A272S_unique_valid[0])\n",
    "print(A272S_unique_valid[1])\n",
    "print(\"Hamming distance:\", hamming(A272S_unique_valid[0], A272S_unique_valid[1]))"
   ]
  },
  {
   "cell_type": "markdown",
   "metadata": {},
   "source": [
    "### Probabilistic interlude #1\n",
    "We are about to use the Hamming distance metric to collapse barcode groups where the barcodes are very similar—specifically, when the distance between two barcodes is one. The motivation for this is that it seems relatively rare that two random 15mers would be so close as to differ by only one base, and PCR errors may be responsible for modifying barcodes that in fact originated from the same infection event.\n",
    "\n",
    "But how likely exactly is it that without errors, no pair of (presumably) random barcodes in a group of several thousand barcodes are exactly one base apart? Well, we can easily find this mathematically: given an equal probability of mutation from or to any base, the probability that two given random 15mers differ by exactly one base is \n",
    "\n",
    "$15\\times 0.25^{14}\\times 0.75 = 4.191\\times 10^{-8}$\n",
    "\n",
    "Extend this to 3927 barcodes (the number of unique barcodes in the A272S sample) and the probability of having all barcodes be at least 2 bases apart from all other barcodes is\n",
    "\n",
    "$(1 - (15\\times (0.25^{14}\\times 0.75))^{3927} = 0.9998$\n",
    "\n",
    "It therefore seems safe to assume any barcodes that are 1 base apart are a result of PCR errors and did not truly originate from different events.\n",
    "\n",
    "Note that in the above hamming_collapse function, I collapsed the barcodes into groups of a particular geometry. By this I mean that if a group is depicted as a graph where barcodes are nodes and edges exist where two nodes are at a Hamming distance of one, the graph has the following properties: \n",
    "\n",
    "1. Each node shares an edge with at least one other node\n",
    "\n",
    "2. Every pair of nodes has a path between them (the graph is connected)\n",
    "\n",
    "3. Each pair of nodes does not necessarily have an edge between them (the graph is not necessarily complete)\n",
    "\n",
    "In other words, if a group contains barcodes A, B, and C, A and B may be different by one base and B and C may be different by one base, but A and C can be different by either one or two bases. This can theoretically result in an arbitrarily long chain of barcodes. I chose to ignore this (instead removing large groups at the end) as I couldnt come up with a better solution. \n"
   ]
  },
  {
   "cell_type": "code",
   "execution_count": 10,
   "metadata": {},
   "outputs": [],
   "source": [
    "def hamming_collapse(unique_valid): \n",
    "######################################################################################\n",
    "#                                                                                    #\n",
    "# Collapses barcodes into groups where barcodes within the group differ by one base  #\n",
    "#   (Hamming distance of 1) and removes groups that contain more than 3 barcodes to  #\n",
    "#   remove abnormally complex groups.                                                #\n",
    "#                                                                                    #\n",
    "# Inputs:                                                                            #\n",
    "#      unique_valid: list of unique barcodes (list of strings).                      #\n",
    "# Outputs:                                                                           #\n",
    "#      hamm1_reduced: list of sublists where each sublist contains all of the tuples #\n",
    "#        of read 1 and read 2 pairs that belong in one barcode group. If the barcode #\n",
    "#        group has more than one barcode, the sublist will contain as many lists as  #\n",
    "#        barcodes in the group.                                                      #\n",
    "#                                                                                    #\n",
    "######################################################################################\n",
    "\n",
    "    unique_hamm1 = dict((k, 0) for k in unique_valid)\n",
    "    unique_hamm1[unique_valid[0]] = 1\n",
    "\n",
    "    counter = 0\n",
    "    for i in unique_valid:\n",
    "        counter += 1\n",
    "        if unique_hamm1[i] == 0:\n",
    "            unique_hamm1[i] = max(unique_hamm1.values()) + 1\n",
    "        for j in unique_valid[counter: ]:\n",
    "            if hamming(i, j) <= 1:\n",
    "                unique_hamm1[j] = unique_hamm1[i]\n",
    "\n",
    "    hamm1_groups = {}\n",
    "    for k, v in unique_hamm1.items():\n",
    "        hamm1_groups[v] = hamm1_groups.get(v, [])\n",
    "        hamm1_groups[v].append(k)\n",
    "    \n",
    "    hamm1_reduced = []\n",
    "    for v in hamm1_groups.values():\n",
    "        if len(v) <= 3:\n",
    "            hamm1_reduced.append(v)\n",
    "    \n",
    "    return hamm1_reduced"
   ]
  },
  {
   "cell_type": "code",
   "execution_count": 11,
   "metadata": {},
   "outputs": [
    {
     "name": "stdout",
     "output_type": "stream",
     "text": [
      "3297 barcodes after collapsing within a Hamming distance of 1 and removing groups of large size\n"
     ]
    }
   ],
   "source": [
    "A272S_hamm1_reduced = hamming_collapse(A272S_unique_valid)\n",
    "print(len(A272S_hamm1_reduced), \"barcodes after collapsing within a Hamming distance of 1 and removing groups of large size\")"
   ]
  },
  {
   "cell_type": "markdown",
   "metadata": {},
   "source": [
    "### Probabilistic interlude #2\n",
    "Given that collapsing barcodes in this case removed a few hundred closely related barcodes, we might be curious as to additional properties of the Hamming distances found in this dataset. Specifically, we might want to know that other than occasional single base PCR errors, the barcodes are far enough apart that they appear random. Let's explore this by taking a subset of the barcodes from A272S after collapsing and comparing the pairwise Hamming distances in this set to a group of random barcodes. The following block of code does this comparison and outputs the results as a graph."
   ]
  },
  {
   "cell_type": "code",
   "execution_count": 12,
   "metadata": {},
   "outputs": [
    {
     "data": {
      "image/png": "[encoded data removed]",
      "text/plain": [
       "<Figure size 432x288 with 1 Axes>"
      ]
     },
     "metadata": {
      "needs_background": "light"
     },
     "output_type": "display_data"
    }
   ],
   "source": [
    "A272S_bc_subset = []\n",
    "i = 0\n",
    "while len(A272S_bc_subset) < 200:\n",
    "    next_bc_group = A272S_hamm1_reduced[i]\n",
    "    A272S_bc_subset.append(next_bc_group[0])\n",
    "    i += 1\n",
    "\n",
    "bases = ['A', 'T', 'C', 'G']\n",
    "random_bc = []\n",
    "while len(random_bc) < 200:\n",
    "    new_bc_list = random.choices(bases, k = 15)\n",
    "    new_bc = ''.join(new_bc_list)\n",
    "    random_bc.append(new_bc)\n",
    "\n",
    "A272S_hamming = []\n",
    "for pair in list(itertools.combinations(A272S_bc_subset, 2)):\n",
    "    A272S_hamming.append(hamming(pair[0], pair[1]))\n",
    "\n",
    "random_hamming = []\n",
    "for pair in list(itertools.combinations(random_bc, 2)):\n",
    "    random_hamming.append(hamming(pair[0], pair[1]))\n",
    "\n",
    "bins = range(17)\n",
    "\n",
    "_, _, patch1 = plt.hist(A272S_hamming, bins, density=1, histtype = 'bar', facecolor='blue', \n",
    "                        alpha = 0.5, label = 'A272S')\n",
    "_, _, patch2 = plt.hist(random_hamming, bins, density=1, histtype = 'step', facecolor='orange', label = 'random')\n",
    " \n",
    "# add a 'best fit' line\n",
    "plt.xlabel('Hamming Distance')\n",
    "plt.ylabel('Probability')\n",
    "plt.title('Histogram of Hamming distance')\n",
    "plt.legend()\n",
    "\n",
    "plt.show()"
   ]
  },
  {
   "cell_type": "markdown",
   "metadata": {},
   "source": [
    "## Flattening and quality control\n",
    "Now that we have the barcode groups, all that remains are a few quality control and processing steps. First we need to flatten the sublists in each barcode group (to remove the boundary between two barcodes within the same group) and remove barcode groups with only one read pair. Then we will concatenate the read 1 and read 2 sequences into one string, which will make them slightly easier to work with later. Then we will make sure that each sequence within a group is identical (more on this in a bit)."
   ]
  },
  {
   "cell_type": "code",
   "execution_count": 13,
   "metadata": {},
   "outputs": [],
   "source": [
    "def combine_seqs(hamm1_reduced, barcode_groups):\n",
    "######################################################################################\n",
    "#                                                                                    #\n",
    "# A housekeeping function that flattens the barcode groups into a list of sublists   # \n",
    "#   where each sublist contains the reads for one barcode group, removes barcode     #\n",
    "#   groups that don't have at least two read pairs, and finally concatenates the     #\n",
    "#   read pair into one string that contains both read 1 and read 2.                  #\n",
    "#                                                                                    #\n",
    "# Inputs:                                                                            #\n",
    "#      hamm1_reduced: list of sublists where each sublist contains all of the tuples #\n",
    "#        of read 1 and read 2 pairs that belong in one barcode group. If the barcode #\n",
    "#        group has more than one barcode, the sublist will contain as many lists as  #\n",
    "#        barcodes in the group.                                                      #\n",
    "#      barcode_groups: dictionary with 15N barcode (type: str) as keys and           #\n",
    "#        corresponding read pairs (type: tuple of strings) as values. Each key may   #\n",
    "#        have multiple values.                                                       #\n",
    "# Outputs:                                                                           #\n",
    "#      seqs_concat: a list of sublists where each sublist contains all of the        #\n",
    "#        sequences in a barcode group (list of flattened sublists of strings). Each  #\n",
    "#        string corresponds to one read pair.                                        #\n",
    "#                                                                                    #\n",
    "######################################################################################\n",
    "\n",
    "    seqs_groups = []\n",
    "    for group in hamm1_reduced:\n",
    "        seqs_hamm = []\n",
    "        for i in range(len(group)):\n",
    "            seqs_hamm.append(barcode_groups[group[i]])\n",
    "        seqs_hamm_flat = [seq for sublist in seqs_hamm for seq in sublist]\n",
    "        if len(seqs_hamm_flat) > 1:\n",
    "            seqs_groups.append(seqs_hamm_flat)\n",
    "    \n",
    "    seqs_concat = []\n",
    "    for group in seqs_groups:\n",
    "        seqs_concat_grp = []\n",
    "        for pair in group:\n",
    "            seqs_concat_grp.append(pair[0] + pair[1])\n",
    "        seqs_concat.append(seqs_concat_grp)\n",
    "        \n",
    "    return seqs_concat"
   ]
  },
  {
   "cell_type": "code",
   "execution_count": 14,
   "metadata": {},
   "outputs": [
    {
     "name": "stdout",
     "output_type": "stream",
     "text": [
      "2629 barcode groups with more than one read pair\n"
     ]
    }
   ],
   "source": [
    "A272S_seqs_concat = combine_seqs(A272S_hamm1_reduced, A272S_barcode_groups)\n",
    "print(len(A272S_seqs_concat), \"barcode groups with more than one read pair\")"
   ]
  },
  {
   "cell_type": "markdown",
   "metadata": {},
   "source": [
    "### Managing internal disagreement within barcode groups\n",
    "So far we have created groups of reads that either came from the same barcode or came from barcodes that were only one base apart. We assume that each of these groups of reads corresponds to a single unique virus infecting a single cell, which should mean that all of the sequences within a barcode group are identical save for errors introduced in PCR. Note that this assumption only holds if there were the correct number of viruses added to the cells such that \n",
    "\n",
    "1. Each cell is only infected by one virus, and\n",
    "\n",
    "2. No two viruses have the same barcode.\n",
    "\n",
    "1 is mostly taken care of by the low MOI used to infect (actual MOI of ~0.03 ensures <1% multiple infection). 2 is trickier and it relies on the assumption that the library of viruses is sufficiently diverse to favor unique barcodes. My calculations indicated that around 57,000 unique transformants went into the maxiprep that produced the plasmid containing the barcode. Assuming that this complexity was preserved through maxiprep and transfection, at an MOI of 0.03 each well containing 1,500,000 cells was infected with 45,000 viruses. The number of times each barcode is drawn with 45,000 trials can be modeled with a multinomial distribution where the probability of each barcode being drawn is 1/57000. Let's model this in the code block below."
   ]
  },
  {
   "cell_type": "code",
   "execution_count": 15,
   "metadata": {},
   "outputs": [
    {
     "name": "stdout",
     "output_type": "stream",
     "text": [
      "34.32 % of all barcodes correspond to non-unique barcodes\n"
     ]
    }
   ],
   "source": [
    "mv = np.random.multinomial(45000, [1/57000]*57000, 100)\n",
    "total_viruses = np.sum(mv >= 1, 1)\n",
    "total_multiples = np.sum(mv >= 2, 1)\n",
    "percent_multiples = np.average(np.divide(total_multiples, total_viruses))\n",
    "print(round(100*percent_multiples, 2), \"% of all barcodes correspond to non-unique barcodes\")"
   ]
  },
  {
   "cell_type": "markdown",
   "metadata": {},
   "source": [
    "Evidently, this is probably going to be a problem. We don't want any non-unique barcodes, as this prohibits us from tracing each error to one integration event. The only obvious solution is to discard all groups where there is any disagreement between the sequences within the group. This will certainly take care of PCR errors, and it will also take care of any incidents where two viruses with the same barcode infect different cells and cause different errors or where one causes an error and one does not. The two cases that aren't covered here is if two viruses with the same barcode infect different cells and neither one causes an error or they both cause exactly the same error. The former seems far more likely than the latter. This is impossible to detect and correct for, and as a result the error rate calculations are likely to be skewed in favor of higher error rate.\n",
    "\n",
    "Two different ways to correct this seem apparent. The first is obviously to re-make the library with at least tenfold higher complexity. The second, which is more of a band-aid solution, is to sequence longer reads, which would increase the probability of finding an in-group mismatch if a group contains reads from multiple infection events.\n",
    "\n",
    "The next function discards groups with internal disagreement using the Hamming distance method."
   ]
  },
  {
   "cell_type": "code",
   "execution_count": 16,
   "metadata": {},
   "outputs": [],
   "source": [
    "def discard_internal_mm(seqs_concat):\n",
    "######################################################################################\n",
    "#                                                                                    #\n",
    "# Checks to make sure that all sequences within a group are identical and saves      #\n",
    "#   sequences from such valid groups.                                                #\n",
    "#                                                                                    #\n",
    "# Inputs:                                                                            #\n",
    "#      seqs_concat: a list of sublists where each sublist contains all of the        #\n",
    "#        sequences in a barcode group (list of flattened sublists of strings). Each  #\n",
    "#        string corresponds to one read pair.                                        #\n",
    "# Outputs:                                                                           #\n",
    "#      true_seqs: a list of sequences where each sequence corresponds one-to-one     #\n",
    "#        with a barcode group. List of strings.                                      #\n",
    "#                                                                                    #\n",
    "######################################################################################\n",
    "\n",
    "    num_mismatched = 0\n",
    "    true_seqs = []\n",
    "\n",
    "    for group in seqs_concat:\n",
    "        counter = 0\n",
    "        combos = list(itertools.combinations(group, 2))\n",
    "\n",
    "        for pair in combos:\n",
    "            counter += hamming(pair[0], pair[1])\n",
    "\n",
    "        if counter > 0:\n",
    "            num_mismatched += 1\n",
    "        else:\n",
    "            true_seqs.append(group[0])\n",
    "\n",
    "    return true_seqs"
   ]
  },
  {
   "cell_type": "code",
   "execution_count": 17,
   "metadata": {},
   "outputs": [
    {
     "name": "stdout",
     "output_type": "stream",
     "text": [
      "644 barcode groups with mismatches between reads\n",
      "1985 barcode groups without mismatches between reads\n"
     ]
    }
   ],
   "source": [
    "A272S_true_seqs = discard_internal_mm(A272S_seqs_concat)\n",
    "print(len(A272S_seqs_concat) - len(A272S_true_seqs), \"barcode groups with mismatches between reads\")\n",
    "print(len(A272S_true_seqs), \"barcode groups without mismatches between reads\")"
   ]
  },
  {
   "cell_type": "markdown",
   "metadata": {},
   "source": [
    "## Error rate calculation\n",
    "Now we have sequences that theoretically correspond to single infection events. All that's left to calculate the error rate by comparing the sequences to eGFP."
   ]
  },
  {
   "cell_type": "code",
   "execution_count": 18,
   "metadata": {},
   "outputs": [],
   "source": [
    "eGFP_read1_fasta = SeqIO.read(\"eGFP_read1.fasta\", \"fasta\")\n",
    "eGFP_read1 = eGFP_read1_fasta.seq[0:112]\n",
    "\n",
    "eGFP_read2_fasta = SeqIO.read(\"eGFP_read2.fasta\", \"fasta\")\n",
    "eGFP_read2 = eGFP_read2_fasta.seq[14:149]\n",
    "\n",
    "eGFP = str(eGFP_read1) + str(eGFP_read2)"
   ]
  },
  {
   "cell_type": "code",
   "execution_count": 19,
   "metadata": {},
   "outputs": [],
   "source": [
    "def calc_error_rate(true_seqs, reference):\n",
    "######################################################################################\n",
    "#                                                                                    #\n",
    "# Finds errors between sequences and a reference and calculates the total error      #\n",
    "#   rate.                                                                            #\n",
    "#                                                                                    #\n",
    "# Inputs:                                                                            #\n",
    "#      true_seqs: a list of sequences where each sequence corresponds one-to-one     #\n",
    "#        with a barcode group. List of strings.                                      #\n",
    "#      reference: a string of the same length of each element of true_seqs           #\n",
    "#        representing the reference sequence.                                        #\n",
    "# Outputs:                                                                           #\n",
    "#      bases_per_error: float representing the error rate in bases per error.        #\n",
    "#                                                                                    #\n",
    "######################################################################################\n",
    "\n",
    "    nerror_list = []\n",
    "    seqs_tested = 0\n",
    "    for seq in true_seqs:\n",
    "        errors = hamming(seq, reference)\n",
    "        if errors <= 2:\n",
    "            nerror_list.append(errors)\n",
    "            seqs_tested += 1\n",
    "        \n",
    "    nerrors = sum(nerror_list)\n",
    "    bases_tested = len(reference) * seqs_tested\n",
    "    \n",
    "    if sum(nerror_list) == 0:\n",
    "        bases_per_error = float('nan')\n",
    "    else:\n",
    "        bases_per_error =  nerrors / bases_tested\n",
    "    \n",
    "    return bases_per_error, nerrors, bases_tested"
   ]
  },
  {
   "cell_type": "code",
   "execution_count": 20,
   "metadata": {},
   "outputs": [
    {
     "name": "stdout",
     "output_type": "stream",
     "text": [
      "Error rate: 1 error per 122326 bases\n"
     ]
    }
   ],
   "source": [
    "A272S_error_rate, _, _ = calc_error_rate(A272S_true_seqs, eGFP)\n",
    "print(\"Error rate: 1 error per\", int(1/A272S_error_rate), \"bases\")"
   ]
  },
  {
   "cell_type": "markdown",
   "metadata": {},
   "source": [
    "## Calculation for all samples"
   ]
  },
  {
   "cell_type": "code",
   "execution_count": 21,
   "metadata": {},
   "outputs": [
    {
     "name": "stdout",
     "output_type": "stream",
     "text": [
      "Calculating for sample Q151N\n",
      "Calculating for sample M184I\n",
      "Calculating for sample K65R\n",
      "Calculating for sample neg\n",
      "Calculating for sample A272S\n",
      "Calculating for sample L74V\n",
      "Calculating for sample Q151M\n",
      "Calculating for sample M184V\n",
      "Calculating for sample K70E\n",
      "Calculating for sample L74I\n",
      "Calculating for sample WT\n",
      "Done\n"
     ]
    }
   ],
   "source": [
    "barcode_numbers = {}\n",
    "error_rates = {}\n",
    "\n",
    "for sample, filepair in files.items():\n",
    "    print(\"Calculating for sample\", sample)\n",
    "    s_barcodes, s_read1_seqs = read1_in(filepair[0])\n",
    "    s_read2_seqs = read2_in(filepair[1])\n",
    "    s_barcode_groups, s_unique_valid = find_barcode_groups(s_barcodes, s_read1_seqs, s_read2_seqs)\n",
    "    \n",
    "    s_hamm1_reduced = hamming_collapse(s_unique_valid)\n",
    "    \n",
    "    s_seqs_concat = combine_seqs(s_hamm1_reduced, s_barcode_groups)    \n",
    "    s_true_seqs = discard_internal_mm(s_seqs_concat)\n",
    "    \n",
    "    s_error_rate, s_nerrors, s_bases_tested = calc_error_rate(s_true_seqs, eGFP)\n",
    "    \n",
    "    barcode_numbers[sample] = (len(s_unique_valid), len(s_hamm1_reduced), len(s_seqs_concat), len(s_true_seqs))\n",
    "    error_rates[sample] = (s_error_rate, s_nerrors, s_bases_tested)\n",
    "\n",
    "print(\"Done\")"
   ]
  },
  {
   "cell_type": "code",
   "execution_count": 22,
   "metadata": {},
   "outputs": [
    {
     "name": "stdout",
     "output_type": "stream",
     "text": [
      "{'Q151N': (307, 306, 5, 5), 'M184I': (710, 568, 141, 55), 'K65R': (1418, 1120, 732, 405), 'neg': (668, 430, 204, 47), 'A272S': (3600, 3297, 2629, 1985), 'L74V': (1678, 1349, 984, 499), 'Q151M': (2025, 1633, 1039, 542), 'M184V': (3215, 2896, 2314, 1664), 'K70E': (2091, 1904, 1400, 1026), 'L74I': (11108, 10952, 2745, 2463), 'WT': (3822, 3677, 1831, 1569)}\n",
      "{'Q151N': (nan, 0, 1235), 'M184I': (7.36105999263894e-05, 1, 13585), 'K65R': (1.0021245039483705e-05, 1, 99788), 'neg': (nan, 0, 11609), 'A272S': (8.174826846948848e-06, 4, 489307), 'L74V': (nan, 0, 123006), 'Q151M': (nan, 0, 133627), 'M184V': (2.4389054192478418e-06, 1, 410020), 'K70E': (2.3722165991902834e-05, 6, 252928), 'L74I': (1.6471045549029361e-06, 1, 607126), 'WT': (1.2926510204187154e-05, 5, 386802)}\n"
     ]
    }
   ],
   "source": [
    "print(barcode_numbers)\n",
    "print(error_rates)"
   ]
  }
 ],
 "metadata": {
  "kernelspec": {
   "display_name": "Python 3",
   "language": "python",
   "name": "python3"
  },
  "language_info": {
   "codemirror_mode": {
    "name": "ipython",
    "version": 3
   },
   "file_extension": ".py",
   "mimetype": "text/x-python",
   "name": "python",
   "nbconvert_exporter": "python",
   "pygments_lexer": "ipython3",
   "version": "3.7.2"
  }
 },
 "nbformat": 4,
 "nbformat_minor": 2
}
